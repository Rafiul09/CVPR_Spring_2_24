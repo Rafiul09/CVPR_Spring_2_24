{
 "cells": [
  {
   "cell_type": "code",
   "execution_count": 1,
   "id": "e810b840-87cb-4c68-a7bf-ce0d9318edbf",
   "metadata": {},
   "outputs": [
    {
     "name": "stdout",
     "output_type": "stream",
     "text": [
      "Sum of all elements in the list: 440\n"
     ]
    }
   ],
   "source": [
    "#List Operation\n",
    "\n",
    "numbers = list(range(1, 11))\n",
    "\n",
    "\n",
    "for num in numbers[:]:  \n",
    "    numbers.append(num ** 2)\n",
    "\n",
    "\n",
    "total_sum = sum(numbers)\n",
    "print(\"Sum of all elements in the list:\", total_sum)\n"
   ]
  },
  {
   "cell_type": "code",
   "execution_count": 2,
   "id": "84b1430a-c21a-400f-8c21-ebd6907cde85",
   "metadata": {},
   "outputs": [
    {
     "name": "stdout",
     "output_type": "stream",
     "text": [
      "Product of all elements in the tuple: 3840\n"
     ]
    }
   ],
   "source": [
    "# Tuple Operation\n",
    "even_numbers = (2, 4, 6, 8, 10)\n",
    "\n",
    "\n",
    "product = 1\n",
    "for num in even_numbers:\n",
    "    product *= num\n",
    "\n",
    "print(\"Product of all elements in the tuple:\", product)\n",
    "\n",
    "\n"
   ]
  },
  {
   "cell_type": "code",
   "execution_count": 6,
   "id": "729e7f7c-aab2-483d-9d34-577b2012b51c",
   "metadata": {},
   "outputs": [
    {
     "name": "stdout",
     "output_type": "stream",
     "text": [
      "Union the sets value : {1, 3, 5, 7, 9}\n",
      "Intersection the sets value: {1, 3, 5, 7, 9}\n"
     ]
    }
   ],
   "source": [
    "#Set Operation\n",
    "\n",
    "set1 = {x for x in range(1, 11) if x % 2 != 0}\n",
    "set2 = {x for x in range(1, 11, 2)}\n",
    "\n",
    "union = set1.union(set2)\n",
    "print(\"Union the sets value :\", union)\n",
    "\n",
    "intersection = set1.intersection(set2)\n",
    "print(\"Intersection the sets value:\", intersection)\n"
   ]
  },
  {
   "cell_type": "code",
   "execution_count": 3,
   "id": "fe3df727-36dd-4d18-b9b1-723f954f3f12",
   "metadata": {},
   "outputs": [
    {
     "name": "stdout",
     "output_type": "stream",
     "text": [
      "Dictionary: {'a': 97, 'b': 98, 'c': 99, 'd': 100, 'e': 101}\n"
     ]
    }
   ],
   "source": [
    "#Dictionary Operation\n",
    "\n",
    "alphabet_dict = {chr(ord('a') + i): ord('a') + i for i in range(5)}\n",
    "\n",
    "print(\"Dictionary:\", alphabet_dict)\n"
   ]
  },
  {
   "cell_type": "code",
   "execution_count": 4,
   "id": "a5228b1d-b8f7-4842-a7ca-3d59b1caeb2f",
   "metadata": {},
   "outputs": [
    {
     "name": "stdout",
     "output_type": "stream",
     "text": [
      "Original list: [1, 2, 3, 4, 5, 6, 7, 8, 9, 10]\n",
      "List after applying square function using map: [1, 4, 9, 16, 25, 36, 49, 64, 81, 100]\n"
     ]
    }
   ],
   "source": [
    "# Function Operation\n",
    "def square(x):\n",
    "    return x ** 2 \n",
    "    \n",
    "numbers = list(range(1, 11))\n",
    "squared_numbers = list(map(square, numbers))\n",
    "print(\"Original list:\", numbers)\n",
    "print(\"List after applying square function using map:\", squared_numbers)\n"
   ]
  },
  {
   "cell_type": "code",
   "execution_count": null,
   "id": "7f3a3bb8-f5fc-4418-a94b-3894b2f20aff",
   "metadata": {},
   "outputs": [],
   "source": []
  }
 ],
 "metadata": {
  "kernelspec": {
   "display_name": "Python 3 (ipykernel)",
   "language": "python",
   "name": "python3"
  },
  "language_info": {
   "codemirror_mode": {
    "name": "ipython",
    "version": 3
   },
   "file_extension": ".py",
   "mimetype": "text/x-python",
   "name": "python",
   "nbconvert_exporter": "python",
   "pygments_lexer": "ipython3",
   "version": "3.11.5"
  }
 },
 "nbformat": 4,
 "nbformat_minor": 5
}
